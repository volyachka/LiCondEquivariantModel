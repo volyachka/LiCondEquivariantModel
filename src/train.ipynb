{
 "cells": [
  {
   "cell_type": "code",
   "execution_count": 1,
   "metadata": {},
   "outputs": [
    {
     "name": "stderr",
     "output_type": "stream",
     "text": [
      "[MemorizedFunc(func=<function query_mpid_structure at 0x7d0e0d882520>, location=./cache/joblib)]: Exception while loading results for query_mpid_structure(mpid=[ 'mp-736',\n",
      "  'mp-1211296',\n",
      "  'mp-6799',\n",
      "  'mp-655591',\n",
      "  'mp-694935',\n",
      "  'mp-28593',\n",
      "  'mp-1184020',\n",
      "  'mp-1110899',\n",
      "  'mp-1111845',\n",
      "  'mp-1001069',\n",
      "  'mp-760046',\n",
      "  'mp-775430',\n",
      "  'mp-1222404',\n",
      "  'mp-14591',\n",
      "  'mp-554782',\n",
      "  'mp-30301',\n",
      "  'mp-1211324',\n",
      "  'mp-676109',\n",
      "  'mp-677490',\n",
      "  'mp-1095543',\n",
      "  'mp-1110713',\n",
      "  'mp-1114027',\n",
      "  'mp-768150',\n",
      "  'mp-1211446',\n",
      "  'mp-6604',\n",
      "  'mp-22905',\n",
      "  'mp-5614',\n",
      "  'mp-696128',\n",
      "  'mp-674531',\n",
      "  'mp-10620',\n",
      "  'mp-33526',\n",
      "  'mp-7117',\n",
      "  'mp-676650',\n",
      "  'mp-1222669',\n",
      "  'mp-1040451',\n",
      "  'mp-1110709',\n",
      "  'mp-1110708',\n",
      "  'mp-567967',\n",
      "  'mp-1040450',\n",
      "  'mp-1210789',\n",
      "  'mp-775806',\n",
      "  'mp-1222392',\n",
      "  'mp-641703',\n",
      "  'mp-950995',\n",
      "  'mp-1103940',\n",
      "  'mp-1222589',\n",
      "  'mp-1...)\n",
      " Traceback (most recent call last):\n",
      "  File \"/home/container-user/.local/lib/python3.11/site-packages/joblib/memory.py\", line 514, in _cached_call\n",
      "    output = self._load_item(call_id)\n",
      "             ^^^^^^^^^^^^^^^^^^^^^^^^\n",
      "  File \"/home/container-user/.local/lib/python3.11/site-packages/joblib/memory.py\", line 848, in _load_item\n",
      "    return self.store_backend.load_item(call_id, metadata=metadata,\n",
      "           ^^^^^^^^^^^^^^^^^^^^^^^^^^^^^^^^^^^^^^^^^^^^^^^^^^^^^^^^\n",
      "  File \"/home/container-user/.local/lib/python3.11/site-packages/joblib/_store_backends.py\", line 185, in load_item\n",
      "    item = numpy_pickle.load(f)\n",
      "           ^^^^^^^^^^^^^^^^^^^^\n",
      "  File \"/home/container-user/.local/lib/python3.11/site-packages/joblib/numpy_pickle.py\", line 648, in load\n",
      "    obj = _unpickle(fobj)\n",
      "          ^^^^^^^^^^^^^^^\n",
      "  File \"/home/container-user/.local/lib/python3.11/site-packages/joblib/numpy_pickle.py\", line 577, in _unpickle\n",
      "    obj = unpickler.load()\n",
      "          ^^^^^^^^^^^^^^^^\n",
      "  File \"/usr/local/lib/python3.11/pickle.py\", line 1211, in load\n",
      "    raise EOFError\n",
      "EOFError\n",
      "\n"
     ]
    },
    {
     "name": "stdout",
     "output_type": "stream",
     "text": [
      "PES fingerprint cache path set to \"./cache\". To change, set PFP_CACHE environment variable.\n",
      "________________________________________________________________________________\n",
      "[Memory] Calling utils.query_mpid_structure...\n",
      "query_mpid_structure(mpid=[ 'mp-736',\n",
      "  'mp-1211296',\n",
      "  'mp-6799',\n",
      "  'mp-655591',\n",
      "  'mp-694935',\n",
      "  'mp-28593',\n",
      "  'mp-1184020',\n",
      "  'mp-1110899',\n",
      "  'mp-1111845',\n",
      "  'mp-1001069',\n",
      "  'mp-760046',\n",
      "  'mp-775430',\n",
      "  'mp-1222404',\n",
      "  'mp-14591',\n",
      "  'mp-554782',\n",
      "  'mp-30301',\n",
      "  'mp-1211324',\n",
      "  'mp-676109',\n",
      "  'mp-677490',\n",
      "  'mp-1095543',\n",
      "  'mp-1110713',\n",
      "  'mp-1114027',\n",
      "  'mp-768150',\n",
      "  'mp-1211446',\n",
      "  'mp-6604',\n",
      "  'mp-22905',\n",
      "  'mp-5614',\n",
      "  'mp-696128',\n",
      "  'mp-674531',\n",
      "  'mp-10620',\n",
      "  'mp-33526',\n",
      "  'mp-7117',\n",
      "  'mp-676650',\n",
      "  'mp-1222669',\n",
      "  'mp-1040451',\n",
      "  'mp-1110709',\n",
      "  'mp-1110708',\n",
      "  'mp-567967',\n",
      "  'mp-1040450',\n",
      "  'mp-1210789',\n",
      "  'mp-775806',\n",
      "  'mp-1222392',\n",
      "  'mp-641703',\n",
      "  'mp-950995',\n",
      "  'mp-1103940',\n",
      "  'mp-1222589',\n",
      "  'mp-1...)\n"
     ]
    },
    {
     "data": {
      "application/vnd.jupyter.widget-view+json": {
       "model_id": "8e58798c169543acaf97160e2a5185fa",
       "version_major": 2,
       "version_minor": 0
      },
      "text/plain": [
       "Retrieving SummaryDoc documents:   0%|          | 0/179 [00:00<?, ?it/s]"
      ]
     },
     "metadata": {},
     "output_type": "display_data"
    },
    {
     "name": "stderr",
     "output_type": "stream",
     "text": [
      "/home/container-user/.local/lib/python3.11/site-packages/joblib/_store_backends.py:206: FutureWarning: Unable to cache to disk: failed to pickle output. In version 1.5 this will raise an exception. Exception: Can't pickle <class 'mp_api.client.core.client.MPDataDoc'>: it's not found as mp_api.client.core.client.MPDataDoc.\n",
      "  warnings.warn(\n"
     ]
    },
    {
     "name": "stdout",
     "output_type": "stream",
     "text": [
      "_____________________________________________query_mpid_structure - 5.5s, 0.1min\n"
     ]
    },
    {
     "name": "stderr",
     "output_type": "stream",
     "text": [
      "100%|██████████| 179/179 [00:00<00:00, 933.99it/s]\n"
     ]
    }
   ],
   "source": [
    "import pandas as pd\n",
    "\n",
    "df = pd.read_csv('sevennet_slopes.csv')\n",
    "df.loc[df['v1_Li_slope'] <= 0, 'v1_Li_slope'] = 1e-15\n",
    "\n",
    "\n",
    "from dataset import build_dataset\n",
    "\n",
    "dataset = build_dataset(df, temp = 1000)"
   ]
  },
  {
   "cell_type": "code",
   "execution_count": 2,
   "metadata": {},
   "outputs": [],
   "source": [
    "from sklearn.model_selection import train_test_split\n",
    "import numpy as np\n",
    "\n",
    "train_indices, val_indices = train_test_split(np.arange(len(dataset)), test_size=0.2, random_state=42)\n",
    "\n",
    "train_dataset = [dataset[i] for i in train_indices]\n",
    "val_dataset = [dataset[i] for i in val_indices]\n",
    "\n",
    "batch_size = 4"
   ]
  },
  {
   "cell_type": "code",
   "execution_count": 3,
   "metadata": {},
   "outputs": [],
   "source": [
    "from torch_geometric.loader import DataLoader\n",
    "from dataset import AtomsToGraphCollater\n",
    "\n",
    "train_dataloader = DataLoader(train_dataset, batch_size=batch_size)\n",
    "train_dataloader.collate_fn = AtomsToGraphCollater(cutoff = 5, noise_std=0.05, dataset='train')\n",
    "\n",
    "val_dataloader = DataLoader(val_dataset, batch_size=batch_size)\n",
    "val_dataloader.collate_fn = AtomsToGraphCollater(cutoff = 5, noise_std=0, dataset='validation')"
   ]
  },
  {
   "cell_type": "code",
   "execution_count": 4,
   "metadata": {},
   "outputs": [],
   "source": [
    "from train import train"
   ]
  },
  {
   "cell_type": "code",
   "execution_count": null,
   "metadata": {},
   "outputs": [
    {
     "name": "stderr",
     "output_type": "stream",
     "text": [
      "100%|██████████| 36/36 [04:22<00:00,  7.29s/it]\n"
     ]
    }
   ],
   "source": [
    "import torch.optim as optim\n",
    "import torch.nn as nn\n",
    "\n",
    "from nn import SimplePeriodicNetwork\n",
    "\n",
    "radial_cutoff = 5\n",
    "\n",
    "net = SimplePeriodicNetwork(\n",
    "    irreps_in=\"1x1o\",  \n",
    "    irreps_out=\"1x0e\",  # Single scalar (L=0 and even parity) to output (for example) energy\n",
    "    max_radius=radial_cutoff, # Cutoff radius for convolution\n",
    "    num_neighbors=10.0,  # scaling factor based on the typical number of neighbors\n",
    "    pool_nodes=True,  # We pool nodes to predict total energy\n",
    ")\n",
    "\n",
    "criterion = nn.MSELoss()  # Example: Mean Squared Error\n",
    "optimizer = optim.Adam(net.parameters(), lr=0.001)\n",
    "\n",
    "num_epochs = 50\n",
    "\n",
    "train(net, train_dataloader, val_dataloader, optimizer, criterion, num_epochs)"
   ]
  }
 ],
 "metadata": {
  "kernelspec": {
   "display_name": "Python 3",
   "language": "python",
   "name": "python3"
  },
  "language_info": {
   "codemirror_mode": {
    "name": "ipython",
    "version": 3
   },
   "file_extension": ".py",
   "mimetype": "text/x-python",
   "name": "python",
   "nbconvert_exporter": "python",
   "pygments_lexer": "ipython3",
   "version": "3.11.5"
  }
 },
 "nbformat": 4,
 "nbformat_minor": 2
}
